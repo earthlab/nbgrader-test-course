{
 "cells": [
  {
   "cell_type": "markdown",
   "metadata": {},
   "source": [
    "# Instructions\n",
    "\n",
    "1. Complete all of the tasks\n",
    "1. Validate your work using the Validate button\n",
    "\n",
    "**Before submitting your assignment**\n",
    "\n",
    "1. Restart and kernal\n",
    "1. Run all of the cells"
   ]
  },
  {
   "cell_type": "markdown",
   "metadata": {},
   "source": [
    "# Testing partial credit"
   ]
  },
  {
   "cell_type": "code",
   "execution_count": 1,
   "metadata": {},
   "outputs": [],
   "source": [
    "import pandas\n",
    "import numpy\n",
    "import traceback"
   ]
  },
  {
   "cell_type": "markdown",
   "metadata": {},
   "source": [
    "Create a dataframe using the following dates as the index, columns A through D, and values randomly generated between 0 and 1."
   ]
  },
  {
   "cell_type": "code",
   "execution_count": 2,
   "metadata": {
    "nbgrader": {
     "grade": false,
     "grade_id": "cell-15160cff34fb7f0e",
     "locked": false,
     "schema_version": 3,
     "solution": true,
     "task": false
    }
   },
   "outputs": [],
   "source": [
    "dates = pandas.date_range('20180101', periods=6)\n",
    "columns=list('ABCD')\n",
    "# BEGIN SOLUTION\n",
    "df = pandas.DataFrame(numpy.random.rand(6, 4), index=dates, columns=list('ABCD'))\n",
    "# END SOLUTION"
   ]
  },
  {
   "cell_type": "code",
   "execution_count": 3,
   "metadata": {
    "nbgrader": {
     "grade": true,
     "grade_id": "cell-72bfeac02452b3f2",
     "locked": true,
     "points": 2,
     "schema_version": 3,
     "solution": false,
     "task": false
    }
   },
   "outputs": [
    {
     "data": {
      "text/plain": [
       "2.0"
      ]
     },
     "execution_count": 3,
     "metadata": {},
     "output_type": "execute_result"
    }
   ],
   "source": [
    "points = 0\n",
    "# test that df is the right shape (0.5 points)\n",
    "df.shape\n",
    "if df.shape == (6,4):\n",
    "    points += 1.0\n",
    "    \n",
    "# test that range of values is correct (0.5 points)\n",
    "if (df.to_numpy().max() <= 1.0) and (df.to_numpy().min() >= 0):\n",
    "    points += 1.0\n",
    "\n",
    "# must output points\n",
    "points"
   ]
  },
  {
   "cell_type": "markdown",
   "metadata": {},
   "source": [
    "## Error handling\n",
    "\n",
    "If the cell throws an error, we won't get the partial credit output. If we want to capture any errors, one option is to output in stdout. Note also in the following the lack of association between task cells (that student completes) and autograded test cells - this autograde has no connection with any task cell. "
   ]
  },
  {
   "cell_type": "code",
   "execution_count": 4,
   "metadata": {
    "nbgrader": {
     "grade": true,
     "grade_id": "cell-7e33f16edc78a713",
     "locked": true,
     "points": 3,
     "schema_version": 3,
     "solution": false,
     "task": false
    }
   },
   "outputs": [
    {
     "name": "stdout",
     "output_type": "stream",
     "text": [
      "Helpful message for student; your code returns the following error:\n",
      "name 'c' is not defined\n",
      "you got the following error because d equals 0:\n",
      "division by zero\n"
     ]
    },
    {
     "name": "stderr",
     "output_type": "stream",
     "text": [
      "Traceback (most recent call last):\n",
      "  File \"<ipython-input-4-61cdbed2ded4>\", line 19, in <module>\n",
      "    a/c\n",
      "NameError: name 'c' is not defined\n"
     ]
    },
    {
     "data": {
      "text/plain": [
       "1"
      ]
     },
     "execution_count": 4,
     "metadata": {},
     "output_type": "execute_result"
    }
   ],
   "source": [
    "credit = 0\n",
    "\n",
    "a = 6\n",
    "b = 5\n",
    "d = 0\n",
    "\n",
    "# test 1 - no error\n",
    "try:\n",
    "    a*b\n",
    "except NameError as ne:\n",
    "    print(ne)\n",
    "else:\n",
    "    credit+=1\n",
    "\n",
    "# test 2 - error\n",
    "# testing different ways to handle - helpful message from instructor, actual error (stdout),\n",
    "# and printing the traceback in stderr. Note that stderr prints after _all_ of the stdout from a cell \n",
    "try:\n",
    "    a/c\n",
    "except NameError as ne:\n",
    "    print(\"Helpful message for student; your code returns the following error:\")\n",
    "    print(ne)\n",
    "    traceback.print_exc()\n",
    "else:\n",
    "    credit+=1\n",
    "\n",
    "# test 2\n",
    "try:\n",
    "    a/d\n",
    "except ZeroDivisionError as ze:\n",
    "    print(\"you got the following error because d equals 0:\")\n",
    "    print(ze)\n",
    "else:\n",
    "    credit+=1\n",
    "\n",
    "credit\n"
   ]
  },
  {
   "cell_type": "code",
   "execution_count": 5,
   "metadata": {
    "nbgrader": {
     "grade": true,
     "grade_id": "cell-2553437e1154375a",
     "locked": true,
     "points": 2,
     "schema_version": 3,
     "solution": false,
     "task": false
    }
   },
   "outputs": [
    {
     "data": {
      "text/plain": [
       "3"
      ]
     },
     "execution_count": 5,
     "metadata": {},
     "output_type": "execute_result"
    }
   ],
   "source": [
    "# can also put the tests in a run method (unless there are issues with scope of variables)\n",
    "# and return the credit (which prints to output)\n",
    "def run_tests():\n",
    "    totalcredit = 3\n",
    "    return totalcredit\n",
    "\n",
    "# note that we can return more points than max_points - the autograder will cap the number\n",
    "# of points and give the student no more than max_points\n",
    "run_tests()"
   ]
  },
  {
   "cell_type": "code",
   "execution_count": null,
   "metadata": {},
   "outputs": [],
   "source": []
  }
 ],
 "metadata": {
  "celltoolbar": "Create Assignment",
  "kernelspec": {
   "display_name": "Python 3",
   "language": "python",
   "name": "python3"
  },
  "language_info": {
   "codemirror_mode": {
    "name": "ipython",
    "version": 3
   },
   "file_extension": ".py",
   "mimetype": "text/x-python",
   "name": "python",
   "nbconvert_exporter": "python",
   "pygments_lexer": "ipython3",
   "version": "3.7.3"
  }
 },
 "nbformat": 4,
 "nbformat_minor": 2
}
