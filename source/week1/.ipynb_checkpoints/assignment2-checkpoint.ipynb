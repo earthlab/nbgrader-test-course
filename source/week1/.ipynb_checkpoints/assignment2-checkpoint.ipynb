{
 "cells": [
  {
   "cell_type": "markdown",
   "metadata": {},
   "source": [
    "# Instructions\n",
    "\n",
    "1. Enter your name and any collaborators in the next cell\n",
    "1. Complete all of the tasks\n",
    "1. Use the Validate button to check your work\n",
    "\n",
    "Before submitting your homework:\n",
    "1. Restart the kernel\n",
    "1. Run all of the cells"
   ]
  },
  {
   "cell_type": "markdown",
   "metadata": {},
   "source": [
    "Name:\n",
    "\n",
    "Collaborators:"
   ]
  },
  {
   "cell_type": "markdown",
   "metadata": {},
   "source": [
    "# Partial credit"
   ]
  },
  {
   "cell_type": "code",
   "execution_count": 1,
   "metadata": {},
   "outputs": [],
   "source": [
    "import pandas\n",
    "import numpy\n",
    "import traceback"
   ]
  },
  {
   "cell_type": "markdown",
   "metadata": {},
   "source": [
    "Create a dataframe using the provided date list as the index, columns A through D, and values randomly generated between 0 and 1."
   ]
  },
  {
   "cell_type": "code",
   "execution_count": 2,
   "metadata": {
    "nbgrader": {
     "grade": false,
     "grade_id": "cell-15160cff34fb7f0e",
     "locked": false,
     "schema_version": 3,
     "solution": true,
     "task": false
    }
   },
   "outputs": [],
   "source": [
    "dates = pandas.date_range('20180101', periods=6)\n",
    "columns=list('ABCD')\n",
    "# BEGIN SOLUTION\n",
    "df = pandas.DataFrame(numpy.random.rand(6, 4), index=dates, columns=list('ABCD'))\n",
    "# END SOLUTION"
   ]
  },
  {
   "cell_type": "code",
   "execution_count": 3,
   "metadata": {
    "nbgrader": {
     "grade": true,
     "grade_id": "cell-72bfeac02452b3f2",
     "locked": true,
     "points": 2,
     "schema_version": 3,
     "solution": false,
     "task": false
    }
   },
   "outputs": [
    {
     "data": {
      "text/plain": [
       "2.0"
      ]
     },
     "execution_count": 3,
     "metadata": {},
     "output_type": "execute_result"
    }
   ],
   "source": [
    "# partial credit cell - outputs the points as stdout\n",
    "\n",
    "points = 0\n",
    "# test that df is the right shape (1.0 points)\n",
    "df.shape\n",
    "if df.shape == (6,4):\n",
    "    points += 1.0\n",
    "    \n",
    "# test that range of values is correct (1.0 points)\n",
    "if (df.to_numpy().max() <= 1.0) and (df.to_numpy().min() >= 0):\n",
    "    points += 1.0\n",
    "\n",
    "# must output points\n",
    "points"
   ]
  },
  {
   "cell_type": "markdown",
   "metadata": {},
   "source": [
    "## Error handling\n",
    "\n",
    "If the cell throws an error, we won't get the partial credit output. If we want to capture any errors, one option is to output the error in stdout. Note also in the following the lack of association between task cells (that student completes) and autograded test cells - this autograde has no connection with any task cell. "
   ]
  },
  {
   "cell_type": "code",
   "execution_count": 6,
   "metadata": {
    "nbgrader": {
     "grade": true,
     "grade_id": "cell-7e33f16edc78a713",
     "locked": true,
     "points": 3,
     "schema_version": 3,
     "solution": false,
     "task": false
    }
   },
   "outputs": [
    {
     "name": "stdout",
     "output_type": "stream",
     "text": [
      "Friendly message to student - your code generated this error:\n",
      "name 'c' is not defined\n",
      "Friendly message to student - your code generated this error:\n",
      "division by zero\n"
     ]
    },
    {
     "name": "stderr",
     "output_type": "stream",
     "text": [
      "Traceback (most recent call last):\n",
      "  File \"<ipython-input-6-bfd630dcca9c>\", line 20, in <module>\n",
      "    a/c\n",
      "NameError: name 'c' is not defined\n"
     ]
    },
    {
     "data": {
      "text/plain": [
       "1"
      ]
     },
     "execution_count": 6,
     "metadata": {},
     "output_type": "execute_result"
    }
   ],
   "source": [
    "# tests that generate errors (but keep going!)\n",
    "\n",
    "credit = 0\n",
    "\n",
    "a = 6\n",
    "b = 5\n",
    "d = 0\n",
    "\n",
    "# test 1 - this passes\n",
    "try:\n",
    "    a*b\n",
    "except NameError as ne:\n",
    "    print(ne)\n",
    "else:\n",
    "    credit+=1\n",
    "\n",
    "# test 2 - this throws an error\n",
    "# in the future, would like to put error in a JSON blob and incorporate into \n",
    "# note that the traceback (stderr) prints after all of the the stdout from the cell\n",
    "try:\n",
    "    a/c\n",
    "except NameError as ne:\n",
    "    print(\"Friendly message to student - your code generated this error:\")\n",
    "    print(ne)\n",
    "    traceback.print_exc()\n",
    "else:\n",
    "    credit+=1\n",
    "\n",
    "# test 2 - also throws an error\n",
    "try:\n",
    "    a/d\n",
    "except ZeroDivisionError as ze:\n",
    "    print(\"Friendly message to student - your code generated this error:\")\n",
    "    print(ze)\n",
    " \n",
    "else:\n",
    "    credit+=1\n",
    "\n",
    "credit\n"
   ]
  },
  {
   "cell_type": "code",
   "execution_count": null,
   "metadata": {
    "nbgrader": {
     "grade": true,
     "grade_id": "cell-5e95bee4c77fc2b7",
     "locked": true,
     "points": 2,
     "schema_version": 3,
     "solution": false,
     "task": false
    }
   },
   "outputs": [],
   "source": [
    "# can also put the tests in a run method (unless there are issues with scope of variables)\n",
    "# note that the cell can return more points that the max_points, but the autograder will limit\n",
    "# to max_points when running\n",
    "def run_tests():\n",
    "    points = 3\n",
    "    return points\n",
    "    \n",
    "run_tests()"
   ]
  },
  {
   "cell_type": "code",
   "execution_count": null,
   "metadata": {},
   "outputs": [],
   "source": []
  }
 ],
 "metadata": {
  "celltoolbar": "Create Assignment",
  "kernelspec": {
   "display_name": "Python 3",
   "language": "python",
   "name": "python3"
  },
  "language_info": {
   "codemirror_mode": {
    "name": "ipython",
    "version": 3
   },
   "file_extension": ".py",
   "mimetype": "text/x-python",
   "name": "python",
   "nbconvert_exporter": "python",
   "pygments_lexer": "ipython3",
   "version": "3.7.3"
  }
 },
 "nbformat": 4,
 "nbformat_minor": 2
}
